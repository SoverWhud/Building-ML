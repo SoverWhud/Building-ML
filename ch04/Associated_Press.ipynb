{
 "cells": [
  {
   "cell_type": "markdown",
   "metadata": {},
   "source": [
    "## Тематическое (Topic) моделирование"
   ]
  },
  {
   "cell_type": "markdown",
   "metadata": {},
   "source": [
    "Можно группировать текстовые документы с применением __методов кластеризации__. Это средство весьма полезное, но не всегда наилучшее. Оно приводит к тому, что каждый текст попадает в один и только один кластер. Но, допустим есть книга посвященная машинному обучению и языку Python. Куда ее отнести - к работам по теме \"Python\", или по теме \"машинное обучение\". В реальном книжном магазине книгу нужно поместить на какую-то одну полку. Но в Интернет-магазине она должна присутствовать в обеих рубриках. Но это не значит, что ее следует включать во все вообще рубрики, скажем, в раздел, посвященный кулинарии.\n",
    "\n",
    "В этой главе мы познакомимся с методами, которые позволяют относить каждый документ к нескольким __темам (topics)__, а не помещать в одинединственный кластер. __Темы будут определяться автоматически__ по имеющемуся набору документов. __Документами могут быть__ как книги, так и более короткие тексты, например, сообщенне в блоге, новость или электронное письмо.\n",
    "\n",
    "Хотелось бы уметь __определять центральную (central) и второстепенные (referring to other topics) темы документа__. \n",
    "\n",
    "Отрасль машинного обучения, в которой рассматриваются подобные проблемы и которой посвящена эта глава, называется __тематическим моделированием (topic modeling)__."
   ]
  },
  {
   "cell_type": "markdown",
   "metadata": {},
   "source": [
    "## Латентное размещение Дирихле (latent Dirichlet allocation LDA)"
   ]
  },
  {
   "cell_type": "markdown",
   "metadata": {},
   "source": [
    "Так получилось, что в машинном обучении есть два метода с аббревиатурой __LDA__: \n",
    "1. __Латентное размещение Дирихле (latent Dirichlet allocation)__, один из алгоритмов тематического моделирования, \n",
    "2. __Линейный дискриминантный анализ (linear discriminant analysis)__ - алгоритм классификации. \n",
    "\n",
    "Кроме аббревиатуры, у них нет ничего общего, и иногда это приводит к недоразумениям. В модуле scikit-learn\n",
    "есть подмодуль __sklearn.lda__, в котором реализован линейный дискриминантный анализ. В настоящее время __метод латентного размещеиия Дирихле в scikit-learn не реализован__"
   ]
  },
  {
   "cell_type": "markdown",
   "metadata": {},
   "source": [
    "Математические идеи, лежащие в основе метода латентного размещения Дирихле, довольно сложны. Однако можно составить общее представление о LDA на интуитивном уровне. LDA принадлежит к классу так называемых __порождающих моделей (generative models)__, поскольку они сопровождаются пояснением, описывающим, как были сгенерированы данные. Разумеется, это пояснение - всего лишь приближение к реальности, призванное упростить машинное обучение. \n",
    "\n",
    "В LDA мы сначала создаем темы, назначая словам __веса в форме вероятностей (probability weights)__. В каждой теме одному и тому же слову назначены разные веса. Так, в теме \"Python\" у слова \"variable\" (переменная) будет высокая вероятность, а у слова \"inebriated\" (подвыпивший) - низкая. Желая сгенерировать новый документ, мы сначала\n",
    "выбираем соответствующие ему темы, а затем комбинируем слова, относящиеся к этим темам."
   ]
  },
  {
   "cell_type": "markdown",
   "metadata": {},
   "source": [
    "Пусть, например, в книгах обсуждаются всего три темы:\n",
    "* машинное обучение;\n",
    "* язык Python;\n",
    "* кулинария.\n",
    "\n",
    "__С каждой темой ассоциирован список слов__. В одной книге будут встречаться слова из первых двух тем, положим, в пропорции 50/50. Доли необязательно должны быть одинаковыми, возможно и соотношение 70/30. Порождая новый текст, мы\n",
    "выбираем слово за словом. Сначала решаем, из какой темы брать слово; решение принимается случайно, но в соответствии с весами тем. Определившись с темой, мы выбираем слово нз списка английских слов, ассоциированных с этой темой."
   ]
  },
  {
   "cell_type": "markdown",
   "metadata": {},
   "source": [
    "В этой модели порядок слов не играет роли. То есть это __модель набора слов (bag of words)__. Это очень грубое приближение к реалыюму языку, но часто оно оказывается достаточным, потому что одно лишь знание частот слов, встречающихся в документе, позволяет принимать, решения в алгоритмах машинного обучения."
   ]
  },
  {
   "cell_type": "markdown",
   "metadata": {},
   "source": [
    "На практике темы нам заранее неизвестны. Наша задача - __получить набор текстов и восстановить по нему пояснение (reverse engineer this fable)__, то есть выяснить, какие темы вообще представлены и к каким из них относится каждый документ."
   ]
  },
  {
   "cell_type": "markdown",
   "metadata": {},
   "source": [
    "## Построение тематической модели"
   ]
  },
  {
   "cell_type": "markdown",
   "metadata": {},
   "source": [
    "К сожалению, scikit-learn не поддерживает метод латентного размещения Дирихле. Поэтому мы воспользуемся написанным на Python пакетом __gensim__. Этот пакет разработан __Радимом Ржехоржеком__ - исследователем в области машинного обучения и консультантом из Великобритании."
   ]
  },
  {
   "cell_type": "code",
   "execution_count": 1,
   "metadata": {
    "collapsed": false
   },
   "outputs": [
    {
     "name": "stdout",
     "output_type": "stream",
     "text": [
      "Requirement already satisfied: gensim in e:\\python\\anaconda2\\lib\\site-packages\n",
      "Requirement already satisfied: six>=1.5.0 in e:\\python\\anaconda2\\lib\\site-packages (from gensim)\n",
      "Requirement already satisfied: scipy>=0.7.0 in e:\\python\\anaconda2\\lib\\site-packages (from gensim)\n",
      "Requirement already satisfied: smart-open>=1.2.1 in e:\\python\\anaconda2\\lib\\site-packages (from gensim)\n",
      "Requirement already satisfied: numpy>=1.3 in e:\\python\\anaconda2\\lib\\site-packages (from gensim)\n",
      "Requirement already satisfied: requests in e:\\python\\anaconda2\\lib\\site-packages (from smart-open>=1.2.1->gensim)\n",
      "Requirement already satisfied: boto>=2.32 in e:\\python\\anaconda2\\lib\\site-packages (from smart-open>=1.2.1->gensim)\n",
      "Requirement already satisfied: bz2file in e:\\python\\anaconda2\\lib\\site-packages (from smart-open>=1.2.1->gensim)\n"
     ]
    }
   ],
   "source": [
    "!pip install gensim"
   ]
  },
  {
   "cell_type": "code",
   "execution_count": 2,
   "metadata": {
    "collapsed": false
   },
   "outputs": [],
   "source": [
    "import warnings\n",
    "warnings.filterwarnings(action='ignore', category=UserWarning, module='gensim')\n",
    "\n",
    "from gensim import corpora, models"
   ]
  },
  {
   "cell_type": "markdown",
   "metadata": {},
   "source": [
    "В качестве данных мы возьмем собрание новостей агентства __Associated Press (АР)__. Это стандартный набор данных для исследований по машинному обучению, который использовался в некоторых ранних работах по тематическому моделированию. Скачав данные, загрузим их в память:"
   ]
  },
  {
   "cell_type": "code",
   "execution_count": 3,
   "metadata": {
    "collapsed": false
   },
   "outputs": [],
   "source": [
    "corpus = corpora.BleiCorpus('./data/ap/ap.dat', './data/ap/vocab.txt')"
   ]
  },
  {
   "cell_type": "markdown",
   "metadata": {
    "collapsed": true
   },
   "source": [
    "В переменной __corpus__ хранятся все текстовые документы в формате, удобном для обработки. Теперь мы можем построить на основе этого объекта __тематическую модель__:"
   ]
  },
  {
   "cell_type": "code",
   "execution_count": 4,
   "metadata": {
    "collapsed": false
   },
   "outputs": [],
   "source": [
    "model = models.ldamodel.LdaModel(corpus, num_topics=100, id2word=corpus.id2word)"
   ]
  },
  {
   "cell_type": "markdown",
   "metadata": {},
   "source": [
    "В результате этого вызова конструктора будет статистически сделан вывод, какие темы присутствуют в корпусе. Получившуюся молель можно исследовать с разных точек зрения. Можно с помощью конструкции __model[doc]__ вывести список\n",
    "тем, ассоциированных с документом:"
   ]
  },
  {
   "cell_type": "code",
   "execution_count": 5,
   "metadata": {
    "collapsed": false
   },
   "outputs": [
    {
     "data": {
      "text/plain": [
       "[(2, 0.042080634668475933),\n",
       " (3, 0.19344071954097458),\n",
       " (14, 0.047543847381963593),\n",
       " (28, 0.10687944778272351),\n",
       " (29, 0.30615464540751264),\n",
       " (43, 0.010506012251037278),\n",
       " (61, 0.078290651097378178),\n",
       " (69, 0.026758224717463971),\n",
       " (74, 0.010275350171067609),\n",
       " (77, 0.041766519320765735),\n",
       " (82, 0.057323252256790871),\n",
       " (99, 0.040403952020450752)]"
      ]
     },
     "execution_count": 5,
     "metadata": {},
     "output_type": "execute_result"
    }
   ],
   "source": [
    "doc = corpus.docbyoffset(0)\n",
    "topics = model[doc]\n",
    "topics"
   ]
  },
  {
   "cell_type": "markdown",
   "metadata": {},
   "source": [
    "__В обучающем алгоритме используются случайные величины__, поэтому при многократном обучении тематической модели на одних и тех же данных всякий раз получается новый результат. Но если данные ведут себя хорошо, то __некоторые качественные свойства модели будут неизменны__. Например, если использовать темы для сравнения документов, что мы и делаем, то сходство (similarities) будет устойчивым (robust), слабо изменяющимся свойством (change only slightly). C другой стороны, порядок тем будет совершенно различным"
   ]
  },
  {
   "cell_type": "markdown",
   "metadata": {},
   "source": [
    "Результат выдается в виде списка пар __(topic_index, topic_weight)__. Мы видим, что с каждым документом ассоциирована лишь часть всех тем (в примере выше для некоторых тем вес не указан, то есть равен нулю). __Тематическая модель разрежена__, то есть всего тем много, но каждый отдельный документ принадлежит лишь немногим. Строго говоря, это не совсем так, поскольку __в модели LDA y любой темы ненулевая вероятность__, но для некоторых она настолько мала, что можно считать ее равной нулю, не жертвуя качеством аппроксимации.\n",
    "\n",
    "__Вектор или матрица называют разреженными__, если большая часть элементов равна нулю (или настолько мала, что можно без ущерба для точности решения считать их нулевыми). Поэтому релевантны лишь немногие значения.\n",
    "\n",
    "Часто задачу, кажущуюся неподъемно большой, удается решить, потому что данные разрежены. Например, любая веб-страница теоретически может ссылаться на любую друrую, но на практике граф ссылок очень сильно разрежен, потому что имеются ссылки лишь на небольшое число страниц."
   ]
  },
  {
   "cell_type": "markdown",
   "metadata": {},
   "source": [
    "Можно продолжить исследование и построить гистограмму тем, ассоциированных с документом:"
   ]
  },
  {
   "cell_type": "code",
   "execution_count": 6,
   "metadata": {
    "collapsed": true
   },
   "outputs": [],
   "source": [
    "num_topics_used = [len(model[doc]) for doc in corpus]"
   ]
  },
  {
   "cell_type": "code",
   "execution_count": 7,
   "metadata": {
    "collapsed": false
   },
   "outputs": [
    {
     "data": {
      "image/png": "[encoded data removed]",
      "text/plain": [
       "<matplotlib.figure.Figure at 0x83deb38>"
      ]
     },
     "metadata": {},
     "output_type": "display_data"
    }
   ],
   "source": [
    "import matplotlib.pyplot as plt\n",
    "import numpy as np\n",
    "\n",
    "fig,ax = plt.subplots()\n",
    "ax.hist(num_topics_used, np.arange(42), edgecolor='k')\n",
    "ax.set_ylabel('Nr of documents')\n",
    "ax.set_xlabel('Nr of topics')\n",
    "ax.grid()\n",
    "\n",
    "fig.tight_layout()\n",
    "plt.show()"
   ]
  },
  {
   "cell_type": "markdown",
   "metadata": {},
   "source": [
    "Из графика видно, что примерно 150 документов относятся к 7 темам, а с большинством ассоциировано от 10 до 13 тем. Нет\n",
    "ни одного документа, в котором бы шла речь более чем о 20 разных темах.\n",
    "\n",
    "Это в значительной степени связано с выбором параметра __alpha__. Его точный смысл выражается в очень абстрактных терминах, но __чем больше значение alpha__, тем больше тем будет у каждого документа. Параметр alpha должен быть больше нуля, и обычно берется значение меньше 1. __Чем меньше alpha__, тем меньше ожидаемое количество тем документа. По умолчанию в gensim alpha принимается равным __1/num_topics__, но можно задать значение явно, передав конструктору\n",
    "LdaModel одноименный параметр:"
   ]
  },
  {
   "cell_type": "code",
   "execution_count": 8,
   "metadata": {
    "collapsed": true
   },
   "outputs": [],
   "source": [
    "model1 = models.ldamodel.LdaModel(corpus, num_topics=100, id2word=corpus.id2word, alpha=1)\n",
    "num_topics_used1 = [len(model1[doc]) for doc in corpus]"
   ]
  },
  {
   "cell_type": "code",
   "execution_count": 9,
   "metadata": {
    "collapsed": false
   },
   "outputs": [
    {
     "data": {
      "image/png": "[encoded data removed]",
      "text/plain": [
       "<matplotlib.figure.Figure at 0xc0c92e8>"
      ]
     },
     "metadata": {},
     "output_type": "display_data"
    }
   ],
   "source": [
    "fig,ax = plt.subplots()\n",
    "ax.hist([num_topics_used, num_topics_used1], np.arange(42))\n",
    "ax.set_ylabel('Nr of documents')\n",
    "ax.set_xlabel('Nr of topics')\n",
    "\n",
    "# Координаты ниже были получены методом проб и ошибок,\n",
    "# чтобы хорошо смотреться\n",
    "ax.text(9, 223, r'default alpha')\n",
    "ax.text(26, 156, 'alpha=1.0')\n",
    "ax.grid()\n",
    "\n",
    "fig.tight_layout()\n",
    "plt.show()"
   ]
  },
  {
   "cell_type": "markdown",
   "metadata": {},
   "source": [
    "Это значение alpha больше подразумеваемого по умолчанию, поэтому у каждого документа должно быть больше тем. На комбинированной гистограмме видно, что gensim ведет себя в соответствии с ожиданиями - с каждым документом теперь ассоциировано больше тем. Сейчас для многих документов __количество тем варьируется от 20 до 25__. Если уменьшить значение, то будет наблюдаться противоположная тенденция.\n",
    "\n",
    "Что это за темы? Технически это __мультиномиальное распределение (multinomial distributions) по словам__, то есть каждому слову из словаря назначается вероятность относительно некоторой темы. Чем выше вероятность, тем больше шансов, что слово связано с данной темой."
   ]
  },
  {
   "cell_type": "markdown",
   "metadata": {},
   "source": [
    "Наш мозг плохо приспособлен для рассуждений о распределениях вероятности, но список слов мы воспринимаем легко. Поэтому обычно темы описываются списком слов с наибольшими вероятностями. "
   ]
  },
  {
   "cell_type": "code",
   "execution_count": 10,
   "metadata": {
    "collapsed": false
   },
   "outputs": [],
   "source": [
    "for ti in range(model.num_topics):\n",
    "    words = model.show_topic(ti, 64)\n",
    "    tf = sum(f for w, f in words)\n",
    "\n",
    "    with open('./data/topics.txt', 'w') as output:\n",
    "        output.write('\\n'.join('{0} : {1}'.format(w, int(1000. * f / tf)) for w, f in words))\n",
    "        output.write(\"\\n\\n\\n\")"
   ]
  },
  {
   "cell_type": "markdown",
   "metadata": {},
   "source": [
    "В таблице перечислены первые десять тем из файла __topics.txt__:"
   ]
  },
  {
   "cell_type": "markdown",
   "metadata": {},
   "source": [
    "<img src = \"./img/first-ten-topics.jpg\" width=700>"
   ]
  },
  {
   "cell_type": "markdown",
   "metadata": {},
   "source": [
    "На первый взгляд, полная неразбериха, но, вчитавшись в список слов, мы начинаем понимать, что темы - не просто произвольно выхваченные слова, а __образуют логические группы__. Мы также видим, что темы относятся к старым новостям - к тому времени, когда еще существовал Советский Союз, а Горбачев был Генеральным секретарем.\n",
    "\n",
    "Темы можно представить также __в виде облака слов__, в котором слова с большей вероятностью набраны более крупным шрифтом.\n",
    "Вот, например, как выглядит тема, относящаяся к политике на Ближнем Востоке:"
   ]
  },
  {
   "cell_type": "code",
   "execution_count": 11,
   "metadata": {
    "collapsed": true
   },
   "outputs": [],
   "source": [
    "from gensim import matutils\n",
    "topics = matutils.corpus2dense(model[corpus], num_terms=model.num_topics)\n",
    "\n",
    "# Сначала определяем наиболее обсуждаемые темы, \n",
    "# т.е. с наибольшим общим весом\n",
    "weight = topics.sum(1)\n",
    "max_topic = weight.argmax()"
   ]
  },
  {
   "cell_type": "code",
   "execution_count": 12,
   "metadata": {
    "collapsed": false
   },
   "outputs": [
    {
     "name": "stdout",
     "output_type": "stream",
     "text": [
      "Requirement already satisfied: pytagcloud in e:\\python\\anaconda2\\lib\\site-packages\n",
      "Requirement already satisfied: pygame in e:\\python\\anaconda2\\lib\\site-packages\n",
      "Requirement already satisfied: simplejson in e:\\python\\anaconda2\\lib\\site-packages\n"
     ]
    }
   ],
   "source": [
    "!pip install pytagcloud\n",
    "!pip install pygame\n",
    "!pip install simplejson"
   ]
  },
  {
   "cell_type": "code",
   "execution_count": 13,
   "metadata": {
    "collapsed": false
   },
   "outputs": [],
   "source": [
    "from pytagcloud import create_tag_image, make_tags\n",
    "\n",
    "def create_cloud(oname, words,maxsize=120, fontname='Lobster'):\n",
    "    '''Создание облака слов (word cloud) (если pytagcloud установлен)\n",
    "\n",
    "    Parameters\n",
    "    ----------\n",
    "    oname : имя выходного файла\n",
    "    words : список (value,str)\n",
    "    maxsize : int, optional\n",
    "        Размер maximum word. Оптимальная настройка этого параметра часто\n",
    "        требует некоторой ручной настройки для каждого input.\n",
    "    fontname : str, optional\n",
    "        используемый шрифт\n",
    "    '''\n",
    "\n",
    "    # gensim возвращает вес между 0 и 1 для каждого слова, в то время как pytagcloud\n",
    "    # ожидает integer word count. Поэтому, мы перемножаем large number и округляем\n",
    "    # Для визуализации это достаточное приближение.\n",
    "    # Нам также необходимо перевернуть порядок т.к. gensim возвращает (value, word), whilst\n",
    "    # тогда как pytagcloud требует (word, value):\n",
    "    words = [(w,int(v*10000)) for w,v in words]\n",
    "    tags = make_tags(words, maxsize=maxsize)\n",
    "    create_tag_image(tags, oname, size=(1800, 1200), fontname=fontname)"
   ]
  },
  {
   "cell_type": "code",
   "execution_count": 14,
   "metadata": {
    "collapsed": false
   },
   "outputs": [],
   "source": [
    "# Получаем верхние 64 слова по этой теме\n",
    "# Без аргумента show_topic будет возвращать 10 слов\n",
    "words = model.show_topic(max_topic, 64)\n",
    "create_cloud(\"./img/cloud_blei_lda.png\", words)"
   ]
  },
  {
   "cell_type": "markdown",
   "metadata": {},
   "source": [
    "<img src = \"./img/cloud_blei_lda.png\" width=500>"
   ]
  },
  {
   "cell_type": "markdown",
   "metadata": {},
   "source": [
    "Видно также, что некоторые слова имело бы смысл удалить (например, слово \"i\" ), потому что они малоинформативны - являются стоп-словами. __При построении тематической модели полезно__ отфильтровывать стоп-слова, иначе могут появиться темы, целиком составленные из таких слов. Кроме того, желательно произвести предварительную обработку - стемминг для нормализации форм множественного числа и глагольных форм."
   ]
  },
  {
   "cell_type": "markdown",
   "metadata": {},
   "source": [
    "## Сравнение документов по темам"
   ]
  },
  {
   "cell_type": "markdown",
   "metadata": {},
   "source": [
    "Темы могут быть полезны сами по себе для построения своего рода виньеток (vignettes) из слов, как на рисунке выше. Такие наглядные представления можно использовать для навигации по большим наборам документов. Например, на сайте разные темы можно показать в виде разных облаков слов, позволяющих пользователю с помощью нескольких щелчков мышью добраться до документов. На самом деле, именно такая методика реально применялась для анализа больших наборов документов.\n",
    "\n",
    "Однако чаще __темы служат промежуточным средством__ для достижения другой цели. Теперь, когда у нас для каждого документа имеется оценка соотнесенности его с разными темам и мы можем сравнивать документы в пространстве тем. Это означает, что __мы сравниваем документы не по отдельным словам, а по тому, насколько близки затрагиваемые в них темы__.\n",
    "\n",
    "И это очень эффективный подход, потому что два текстовых документа, почти не имеющие общих слов могут, тем не менее, относиться к одной и той же теме! Возможно, в них просто используются разные словесные конструкции (скажем, в одном документе говорится о \"президенте США\", а в другом - о \"Бараке Обаме\")."
   ]
  },
  {
   "cell_type": "markdown",
   "metadata": {},
   "source": [
    "Можно искать сообщение, больше всего похожее на заданное в вопросе, исходя из сходства по темам. Если раньше при сравнении двух документов мы использовали их векторы слов, то теперь __сравним векторы тем.__\n",
    "\n",
    "Для этого спроецируем документы в пространство тем. Иначе говоря, мы хотим __построить вектор тем, описывающий документ (задача понижения размерности)__. Вычислив для каждого документа вектор тем, мы сможем производить, над этими векторами различные операции, забыв об исходных словах. __Если темы значимы, то они потенциально могут оказаться более информатнвными, чем сами слова__. Кроме того, так можно и __сэкономить на вычислениях__, потому что сравнить векторы\n",
    "с вероятностями сотни тем гораздо быстрее, чем векторы, размер которых сравним с размером словаря (тысячи термов)."
   ]
  },
  {
   "cell_type": "code",
   "execution_count": 15,
   "metadata": {
    "collapsed": true
   },
   "outputs": [],
   "source": [
    "import nltk.corpus\n",
    "import nltk.stem\n",
    "\n",
    "from scipy.spatial import distance\n",
    "import numpy as np\n",
    "from gensim import corpora, models\n",
    "import sklearn.datasets\n",
    "\n",
    "from collections import defaultdict\n",
    "\n",
    "english_stemmer = nltk.stem.SnowballStemmer('english')\n",
    "stopwords = set(nltk.corpus.stopwords.words('english'))\n",
    "stopwords.update(['from:', 'subject:', 'writes:', 'writes'])\n",
    "\n",
    "class DirectText(corpora.textcorpus.TextCorpus):\n",
    "\n",
    "    def get_texts(self):\n",
    "        return self.input\n",
    "\n",
    "    def __len__(self):\n",
    "        return len(self.input)"
   ]
  },
  {
   "cell_type": "code",
   "execution_count": 16,
   "metadata": {
    "collapsed": true
   },
   "outputs": [],
   "source": [
    "try:\n",
    "    dataset = sklearn.datasets.load_mlcomp(\"20news-18828\", \"train\", mlcomp_root='./data')\n",
    "except:\n",
    "    print(\"Newsgroup data not found.\")\n",
    "    print(\"Please download from http://mlcomp.org/datasets/379\")\n",
    "    print(\"And expand the zip into the subdirectory data/\")\n",
    "    print(\"\\n\" * 2)\n",
    "    raise"
   ]
  },
  {
   "cell_type": "code",
   "execution_count": 17,
   "metadata": {
    "collapsed": true
   },
   "outputs": [],
   "source": [
    "otexts = dataset.data\n",
    "texts = dataset.data\n",
    "\n",
    "texts = [t.decode('utf-8', 'ignore') for t in texts]\n",
    "texts = [t.split() for t in texts]\n",
    "texts = [map(lambda w: w.lower(), t) for t in texts]\n",
    "texts = [filter(lambda s: not len(set(\"+-.?!()>@012345689\") & set(s)), t) for t in texts]\n",
    "texts = [filter(lambda s: (len(s) > 3) and (s not in stopwords), t) for t in texts]\n",
    "texts = [map(english_stemmer.stem, t) for t in texts]\n",
    "\n",
    "usage = defaultdict(int)\n",
    "for t in texts:\n",
    "    for w in set(t):\n",
    "        usage[w] += 1\n",
    "\n",
    "limit = len(texts) / 10\n",
    "too_common = [w for w in usage if usage[w] > limit]\n",
    "too_common = set(too_common)\n",
    "texts = [filter(lambda s: s not in too_common, t) for t in texts]"
   ]
  },
  {
   "cell_type": "code",
   "execution_count": 18,
   "metadata": {
    "collapsed": false
   },
   "outputs": [],
   "source": [
    "corpus = DirectText(texts)\n",
    "dictionary = corpus.dictionary\n",
    "try:\n",
    "    dictionary['computer']\n",
    "except:\n",
    "    pass\n",
    "\n",
    "model = models.ldamodel.LdaModel(corpus, num_topics=100, id2word=dictionary.id2token)"
   ]
  },
  {
   "cell_type": "markdown",
   "metadata": {},
   "source": [
    "Мы видели, как с помощью пакета gensim вычислить темы всех документов из корпуса. Сделаем это, сохраним результаты в массивах NumPy и вычислим попарные расстояния:"
   ]
  },
  {
   "cell_type": "code",
   "execution_count": 19,
   "metadata": {
    "collapsed": false
   },
   "outputs": [],
   "source": [
    "from gensim import matutils\n",
    "topics = matutils.corpus2dense(model[corpus], num_terms=model.num_topics)\n",
    "\n",
    "thetas = np.zeros((len(texts), 100))\n",
    "for i, c in enumerate(corpus):\n",
    "    for ti, v in model[c]:\n",
    "        thetas[i, ti] += v"
   ]
  },
  {
   "cell_type": "markdown",
   "metadata": {},
   "source": [
    "Переменная __topics__: содержит матрицу тем. Для вычисления попарных расстояний можно воспользоваться функцией __pdist__ из библиотеки SciPy. Один ее вызов вычисляет все значения sum((topics[ti] - topics[tj])\\**2):"
   ]
  },
  {
   "cell_type": "code",
   "execution_count": 20,
   "metadata": {
    "collapsed": true
   },
   "outputs": [],
   "source": [
    "from scipy.spatial import distance\n",
    "pairwise = distance.squareform(distance.pdist(topics))\n",
    "distances = distance.squareform(distance.pdist(thetas))"
   ]
  },
  {
   "cell_type": "markdown",
   "metadata": {},
   "source": [
    "Далее применим еще один трюк; присвоим диагональным элементам матрицы __distance__ некое большое значение (оно должно быть больше всех остальных элементов матрицы):"
   ]
  },
  {
   "cell_type": "code",
   "execution_count": 21,
   "metadata": {
    "collapsed": true
   },
   "outputs": [],
   "source": [
    "largest = pairwise.max()\n",
    "for ti in range (len (topics)):\n",
    "    pairwise[ti,ti] = largest + 1\n",
    "    \n",
    "large = distances.max() + 1\n",
    "for i in range(len(distances)):\n",
    "    distances[i, i] = large"
   ]
  },
  {
   "cell_type": "markdown",
   "metadata": {},
   "source": [
    "Отметим, что это решение не сработало бы, если бы мы не присвоили диагональным элементам большое значение: функция всегда возвращала бы сам документ, потому что он больше всего похож на себя самого (за исключением маловероятного случая, когда у двух элементов в точности одинаковое распределение вероятностей тем, что практически невозможно, если только они не совпадают буквально)."
   ]
  },
  {
   "cell_type": "markdown",
   "metadata": {},
   "source": [
    "Вот и всё! Для каждого документа можно легко найти ближайший к нему (получился вариант классификатора по ближайшему\n",
    "соседу):"
   ]
  },
  {
   "cell_type": "code",
   "execution_count": 22,
   "metadata": {
    "collapsed": false
   },
   "outputs": [
    {
     "name": "stdout",
     "output_type": "stream",
     "text": [
      "From: geb@cs.pitt.edu (Gordon Banks)\n",
      "Subject: Re: request for information on \"essential tremor\" and Indrol?\n",
      "\n",
      "In article <1q1tbnINNnfn@life.ai.mit.edu> sundar@ai.mit.edu writes:\n",
      "\n",
      "Essential tremor is a progressive hereditary tremor that gets worse\n",
      "when the patient tries to use the effected member.  All limbs, vocal\n",
      "cords, and head can be involved.  Inderal is a beta-blocker and\n",
      "is usually effective in diminishing the tremor.  Alcohol and mysoline\n",
      "are also effective, but alcohol is too toxic to use as a treatment.\n",
      "-- \n",
      "----------------------------------------------------------------------------\n",
      "Gordon Banks  N3JXP      | \"Skepticism is the chastity of the intellect, and\n",
      "geb@cadre.dsl.pitt.edu   |  it is shameful to surrender it too soon.\" \n",
      "----------------------------------------------------------------------------\n",
      "\n"
     ]
    }
   ],
   "source": [
    "print(otexts[1])"
   ]
  },
  {
   "cell_type": "markdown",
   "metadata": {},
   "source": [
    "Если мы попросим найти наиболее похожий документ - __closest_to(1)__ - то получим такой результат:"
   ]
  },
  {
   "cell_type": "code",
   "execution_count": 23,
   "metadata": {
    "collapsed": true
   },
   "outputs": [],
   "source": [
    "def closest_to(doc_id):\n",
    "    return pairwise[doc_id].argmin()"
   ]
  },
  {
   "cell_type": "code",
   "execution_count": 25,
   "metadata": {
    "collapsed": false
   },
   "outputs": [
    {
     "name": "stdout",
     "output_type": "stream",
     "text": [
      "From: eshneken@ux4.cso.uiuc.edu (Edward A Shnekendorf)\n",
      "Subject: Re: was: Go Hezbollah!!\n",
      "\n",
      "amehdi@src.honeywell.com (Hossien Amehdi) writes:\n",
      "\n",
      ">In article <C5HuBA.CJo@news.cso.uiuc.edu> eshneken@ux4.cso.uiuc.edu (Edward A Shnekendorf) writes:\n",
      ">>amehdi@src.honeywell.com (Hossien Amehdi) writes:\n",
      ">>\n",
      ">>>You know when Israelis F16 (thanks to General Dynamics) fly high in the sky\n",
      ">>>and bomb the hell out of some village in Lebanon, where civilians including\n",
      ">>>babies and eldery getting killed, is that plain murder or what?\n",
      ">>\n",
      ">>If you Arabs wouldn't position guerilla bases in refugee camps, artillery \n",
      ">>batteries atop apartment buildings, and munitions dumps in hospitals, maybe\n",
      ">>civilians wouldn't get killed.  Kinda like Saddam Hussein putting civilians\n",
      ">>in a military bunker.  \n",
      ">>\n",
      ">>Ed.\n",
      "\n",
      ">Who is the you Arabs here.  Since you are replying to my article you\n",
      ">are assuming that I am an Arab.  Well, I'm not an Arab, but I think you\n",
      ">are brain is full of shit if you really believe what you said.  The\n",
      ">bombardment of civilian and none civilian areas in Lebanon by Israel is\n",
      ">very consistent with its policy of intimidation.  That is the only\n",
      ">policy that has been practiced by the so called only democracy in\n",
      ">the middle east!\n",
      "\n",
      "What the hell do you know about Israeli policy?  What gives you the fiat\n",
      "to look into the minds of Israeli generals?  Has this 'policy of intimidation'\n",
      "been published somewhere?  For your information, the actions taken by Arabs,\n",
      "specifically the PLO, were not uncommon in the Lebanon Campaign of 1982.  My\n",
      "brain is full of shit?  At least I don't look into the minds of others and \n",
      "make Israeli policy for them!\n",
      "\n",
      ">I was merley pointing out that the other side is also suffering.\n",
      ">Like I said, I'm not an Arab but if I was, say a Lebanese, you bet\n",
      ">I would defende my homeland against any invader by any means.\n",
      "\n",
      "Yeah, yeah, yeah.  We all suffer.  It's too bad that civilians get killed but\n",
      "I will blame their Arab leaders who put them in positions of danger before I\n",
      "will blame the Israelis.  Just like Palestinians who send their children into\n",
      "warzones to throw rocks at armed Israeli soldiers.  What irresponsible parents!\n",
      "As Golda Meir said, peace will only come when the Arabs start loving their\n",
      "children more than they hate the Jews.\n",
      "\n",
      "Ed.\n",
      "\n",
      "\n"
     ]
    }
   ],
   "source": [
    "print(otexts[closest_to(1)])"
   ]
  },
  {
   "cell_type": "code",
   "execution_count": 26,
   "metadata": {
    "collapsed": false
   },
   "outputs": [
    {
     "name": "stdout",
     "output_type": "stream",
     "text": [
      "From: geb@cs.pitt.edu (Gordon Banks)\n",
      "Subject: Re: Sinus vs. Migraine (was Re: Sinus Endoscopy)\n",
      "\n",
      "In article <Lauger-240393141539@lauger.mdc.com> Lauger@ssdgwy.mdc.com (John Lauger) writes:\n",
      ">In article <19201@pitt.UUCP>, geb@cs.pitt.edu (Gordon Banks) wrote:\n",
      "\n",
      ">What's the best approach to getting off the analgesics.  Is there something\n",
      "\n",
      "Two approaches that I've used: Tofranil, 50 mg qhs, Naproxen 250mg bid.\n",
      "The Naproxen doesn't seem to be as bad as things like Tylenol in promoting\n",
      "the analgesic abuse Headache.  DHE IV infusions for about 3 days (in\n",
      "hospital).  Cold turkey is the only way I think.  Tapering doesn't\n",
      "help. I wouldn't know how you can do this without your doctor.  I haven't\n",
      "seen anyone successfully do it alone.  Doesn't mean it can't be done.\n",
      "-- \n",
      "----------------------------------------------------------------------------\n",
      "Gordon Banks  N3JXP      | \"Skepticism is the chastity of the intellect, and\n",
      "geb@cadre.dsl.pitt.edu   |  it is shameful to surrender it too soon.\" \n",
      "----------------------------------------------------------------------------\n",
      "\n"
     ]
    }
   ],
   "source": [
    "print(otexts[distances[1].argmin()])"
   ]
  },
  {
   "cell_type": "code",
   "execution_count": null,
   "metadata": {
    "collapsed": true
   },
   "outputs": [],
   "source": []
  }
 ],
 "metadata": {
  "kernelspec": {
   "display_name": "Python 2",
   "language": "python",
   "name": "python2"
  },
  "language_info": {
   "codemirror_mode": {
    "name": "ipython",
    "version": 2
   },
   "file_extension": ".py",
   "mimetype": "text/x-python",
   "name": "python",
   "nbconvert_exporter": "python",
   "pygments_lexer": "ipython2",
   "version": "2.7.13"
  }
 },
 "nbformat": 4,
 "nbformat_minor": 2
}
